{
 "cells": [
  {
   "cell_type": "code",
   "execution_count": null,
   "metadata": {},
   "outputs": [],
   "source": [
    "data_path = '../dataset'"
   ]
  },
  {
   "cell_type": "code",
   "execution_count": 2,
   "metadata": {},
   "outputs": [],
   "source": [
    "import os"
   ]
  },
  {
   "cell_type": "code",
   "execution_count": 3,
   "metadata": {},
   "outputs": [
    {
     "name": "stdout",
     "output_type": "stream",
     "text": [
      "../dataset/test\n",
      "../dataset/train\n"
     ]
    }
   ],
   "source": [
    "for path in os.listdir(data_path):\n",
    "    if os.path.isdir(os.path.join(data_path, path)):\n",
    "        print(os.path.join(data_path, path))"
   ]
  },
  {
   "cell_type": "code",
   "execution_count": 4,
   "metadata": {},
   "outputs": [],
   "source": [
    "train_data_path = os.path.join(data_path, 'train')\n",
    "test_data_path = os.path.join(data_path, 'test')"
   ]
  },
  {
   "cell_type": "code",
   "execution_count": 5,
   "metadata": {},
   "outputs": [
    {
     "data": {
      "text/plain": [
       "{0: 'chicken_curry',\n",
       " 1: 'chicken_wings',\n",
       " 2: 'fried_rice',\n",
       " 3: 'grilled_salmon',\n",
       " 4: 'hamburger',\n",
       " 5: 'ice_cream',\n",
       " 6: 'pizza',\n",
       " 7: 'ramen',\n",
       " 8: 'steak',\n",
       " 9: 'sushi'}"
      ]
     },
     "execution_count": 5,
     "metadata": {},
     "output_type": "execute_result"
    }
   ],
   "source": [
    "train_classes = dict()\n",
    "\n",
    "for path in sorted(os.listdir(train_data_path)):\n",
    "    if os.path.isdir(os.path.join(train_data_path, path)):\n",
    "        train_classes.setdefault(len(train_classes), path)\n",
    "        \n",
    "train_classes"
   ]
  },
  {
   "cell_type": "code",
   "execution_count": 6,
   "metadata": {},
   "outputs": [
    {
     "data": {
      "text/plain": [
       "{0: 'chicken_curry',\n",
       " 1: 'chicken_wings',\n",
       " 2: 'fried_rice',\n",
       " 3: 'grilled_salmon',\n",
       " 4: 'hamburger',\n",
       " 5: 'ice_cream',\n",
       " 6: 'pizza',\n",
       " 7: 'ramen',\n",
       " 8: 'steak',\n",
       " 9: 'sushi'}"
      ]
     },
     "execution_count": 6,
     "metadata": {},
     "output_type": "execute_result"
    }
   ],
   "source": [
    "test_classes = dict()\n",
    "\n",
    "for path in sorted(os.listdir(test_data_path)):\n",
    "    if os.path.isdir(os.path.join(test_data_path, path)):\n",
    "        test_classes.setdefault(len(test_classes), path)\n",
    "        \n",
    "test_classes"
   ]
  },
  {
   "cell_type": "code",
   "execution_count": 7,
   "metadata": {},
   "outputs": [
    {
     "data": {
      "text/plain": [
       "device(type='cuda')"
      ]
     },
     "execution_count": 7,
     "metadata": {},
     "output_type": "execute_result"
    }
   ],
   "source": [
    "import torch\n",
    "\n",
    "device = torch.device('cuda' if torch.cuda.is_available() else 'cpu')\n",
    "device"
   ]
  },
  {
   "cell_type": "code",
   "execution_count": 8,
   "metadata": {},
   "outputs": [
    {
     "data": {
      "text/plain": [
       "'GeForce GTX 1070'"
      ]
     },
     "execution_count": 8,
     "metadata": {},
     "output_type": "execute_result"
    }
   ],
   "source": [
    "torch.cuda.get_device_name(0)"
   ]
  },
  {
   "cell_type": "code",
   "execution_count": 9,
   "metadata": {},
   "outputs": [],
   "source": [
    "from torchvision import transforms as T"
   ]
  },
  {
   "cell_type": "code",
   "execution_count": 10,
   "metadata": {},
   "outputs": [],
   "source": [
    "transform = T.Compose([\n",
    "    T.Resize((256,256)),\n",
    "    T.CenterCrop(224),\n",
    "    T.ToTensor(),\n",
    "    T.Normalize(mean=[0.485, 0.456, 0.406], std=[0.229, 0.224, 0.225])\n",
    "])"
   ]
  },
  {
   "cell_type": "code",
   "execution_count": 11,
   "metadata": {},
   "outputs": [],
   "source": [
    "from torchvision.datasets import ImageFolder"
   ]
  },
  {
   "cell_type": "code",
   "execution_count": 12,
   "metadata": {},
   "outputs": [],
   "source": [
    "train_dataset = ImageFolder(\n",
    "    root=train_data_path,\n",
    "    transform=transform\n",
    ")"
   ]
  },
  {
   "cell_type": "code",
   "execution_count": 13,
   "metadata": {},
   "outputs": [
    {
     "data": {
      "text/plain": [
       "Dataset ImageFolder\n",
       "    Number of datapoints: 750\n",
       "    Root location: ../dataset/train\n",
       "    StandardTransform\n",
       "Transform: Compose(\n",
       "               Resize(size=(256, 256), interpolation=PIL.Image.BILINEAR)\n",
       "               CenterCrop(size=(224, 224))\n",
       "               ToTensor()\n",
       "               Normalize(mean=[0.485, 0.456, 0.406], std=[0.229, 0.224, 0.225])\n",
       "           )"
      ]
     },
     "execution_count": 13,
     "metadata": {},
     "output_type": "execute_result"
    }
   ],
   "source": [
    "train_dataset"
   ]
  },
  {
   "cell_type": "code",
   "execution_count": 14,
   "metadata": {},
   "outputs": [],
   "source": [
    "test_dataset = ImageFolder(\n",
    "    root=test_data_path,\n",
    "    transform=transform\n",
    ")"
   ]
  },
  {
   "cell_type": "code",
   "execution_count": 15,
   "metadata": {},
   "outputs": [
    {
     "data": {
      "text/plain": [
       "Dataset ImageFolder\n",
       "    Number of datapoints: 2500\n",
       "    Root location: ../dataset/test\n",
       "    StandardTransform\n",
       "Transform: Compose(\n",
       "               Resize(size=(256, 256), interpolation=PIL.Image.BILINEAR)\n",
       "               CenterCrop(size=(224, 224))\n",
       "               ToTensor()\n",
       "               Normalize(mean=[0.485, 0.456, 0.406], std=[0.229, 0.224, 0.225])\n",
       "           )"
      ]
     },
     "execution_count": 15,
     "metadata": {},
     "output_type": "execute_result"
    }
   ],
   "source": [
    "test_dataset"
   ]
  },
  {
   "cell_type": "code",
   "execution_count": 16,
   "metadata": {},
   "outputs": [],
   "source": [
    "from torch.utils.data import DataLoader"
   ]
  },
  {
   "cell_type": "code",
   "execution_count": 17,
   "metadata": {},
   "outputs": [],
   "source": [
    "BATCH_SIZE = 16"
   ]
  },
  {
   "cell_type": "code",
   "execution_count": 18,
   "metadata": {},
   "outputs": [],
   "source": [
    "train_loader = DataLoader(\n",
    "    train_dataset,\n",
    "    batch_size=BATCH_SIZE,\n",
    "    num_workers=0,\n",
    "    shuffle=True\n",
    ")"
   ]
  },
  {
   "cell_type": "code",
   "execution_count": 19,
   "metadata": {},
   "outputs": [],
   "source": [
    "test_loader = DataLoader(\n",
    "    test_dataset,\n",
    "    batch_size=BATCH_SIZE,\n",
    "    num_workers=0,\n",
    "    shuffle=True\n",
    ")"
   ]
  },
  {
   "cell_type": "code",
   "execution_count": 20,
   "metadata": {},
   "outputs": [
    {
     "data": {
      "text/plain": [
       "(47, 157)"
      ]
     },
     "execution_count": 20,
     "metadata": {},
     "output_type": "execute_result"
    }
   ],
   "source": [
    "len(train_loader), len(test_loader)"
   ]
  },
  {
   "cell_type": "code",
   "execution_count": 21,
   "metadata": {},
   "outputs": [],
   "source": [
    "import torch.nn as nn\n",
    "import torch.nn.functional as F"
   ]
  },
  {
   "cell_type": "code",
   "execution_count": 22,
   "metadata": {},
   "outputs": [],
   "source": [
    "class FoodNet(nn.Module):\n",
    "    def __init__(self):\n",
    "        super(FoodNet, self).__init__()\n",
    "        self.conv1 = nn.Conv2d(3, 6, 3)\n",
    "        self.pool = nn.MaxPool2d(2, 2)\n",
    "        self.conv2 = nn.Conv2d(6, 8, 3)\n",
    "        self.conv3 = nn.Conv2d(8, 16, 3)\n",
    "        self.fc1 = nn.Linear(BATCH_SIZE * 26 * 26, 128)\n",
    "        self.fc2 = nn.Linear(128, 64)\n",
    "        self.fc3 = nn.Linear(64, 10)\n",
    "        \n",
    "    def forward(self, x):\n",
    "        x = self.pool(F.relu(self.conv1(x)))\n",
    "        x = self.pool(F.relu(self.conv2(x)))\n",
    "        x = self.pool(F.relu(self.conv3(x)))\n",
    "        x = x.view(-1, BATCH_SIZE * 26 * 26)\n",
    "        x = F.relu(self.fc1(x))\n",
    "        x = F.relu(self.fc2(x))\n",
    "        x = self.fc3(x)\n",
    "        return x"
   ]
  },
  {
   "cell_type": "code",
   "execution_count": 23,
   "metadata": {},
   "outputs": [],
   "source": [
    "model = FoodNet()\n",
    "model = model.to(device)"
   ]
  },
  {
   "cell_type": "code",
   "execution_count": 24,
   "metadata": {},
   "outputs": [],
   "source": [
    "import torch.optim as optim"
   ]
  },
  {
   "cell_type": "code",
   "execution_count": 25,
   "metadata": {},
   "outputs": [],
   "source": [
    "criterion = nn.CrossEntropyLoss()\n",
    "criterion = criterion.to(device)\n",
    "\n",
    "optimizer = optim.Adam(model.parameters(), lr=1e-4)"
   ]
  },
  {
   "cell_type": "code",
   "execution_count": 26,
   "metadata": {},
   "outputs": [],
   "source": [
    "EPOCHS = 20"
   ]
  },
  {
   "cell_type": "code",
   "execution_count": 27,
   "metadata": {},
   "outputs": [],
   "source": [
    "loaders = {\n",
    "    'train': train_loader,\n",
    "    'val': test_loader\n",
    "}"
   ]
  },
  {
   "cell_type": "code",
   "execution_count": 28,
   "metadata": {},
   "outputs": [
    {
     "name": "stdout",
     "output_type": "stream",
     "text": [
      "TRAIN Epoch 1/20, Loss: 2.304821308622969, Acc: 0.09574468085106383\n",
      "VAL Epoch 1/20, Loss: 2.986589039966559, Acc: 0.13415605095541402\n",
      "TRAIN Epoch 2/20, Loss: 2.2846321907449276, Acc: 0.14779635265152505\n",
      "VAL Epoch 2/20, Loss: 2.9548803848825442, Acc: 0.18437215652625272\n",
      "TRAIN Epoch 3/20, Loss: 2.229900933326559, Acc: 0.17762158081886617\n",
      "VAL Epoch 3/20, Loss: 2.890502058017026, Acc: 0.2235555050859026\n",
      "TRAIN Epoch 4/20, Loss: 2.1561252386011978, Acc: 0.1905395138136884\n",
      "VAL Epoch 4/20, Loss: 2.852905078298727, Acc: 0.2254322111416774\n",
      "TRAIN Epoch 5/20, Loss: 2.0879703912329166, Acc: 0.22568389075867673\n",
      "VAL Epoch 5/20, Loss: 2.814698149444191, Acc: 0.2578480437303045\n",
      "TRAIN Epoch 6/20, Loss: 2.028721033258641, Acc: 0.2841945290565491\n",
      "VAL Epoch 6/20, Loss: 2.7945629031794845, Acc: 0.28332575073667393\n",
      "TRAIN Epoch 7/20, Loss: 1.97694933668096, Acc: 0.29692249253709263\n",
      "VAL Epoch 7/20, Loss: 2.784767879042656, Acc: 0.28474749776588126\n",
      "TRAIN Epoch 8/20, Loss: 1.9028901216831613, Acc: 0.36607142965844336\n",
      "VAL Epoch 8/20, Loss: 2.7661759352228446, Acc: 0.31579845346462954\n",
      "TRAIN Epoch 9/20, Loss: 1.8268004630474335, Acc: 0.3953267478562416\n",
      "VAL Epoch 9/20, Loss: 2.746147750289577, Acc: 0.3321201092308494\n",
      "TRAIN Epoch 10/20, Loss: 1.7574361638819918, Acc: 0.40539513750279205\n",
      "VAL Epoch 10/20, Loss: 2.734745551826088, Acc: 0.3407074615454218\n",
      "TRAIN Epoch 11/20, Loss: 1.6518098268103092, Acc: 0.47321428643896224\n",
      "VAL Epoch 11/20, Loss: 2.7322082443601765, Acc: 0.36220427683204603\n",
      "TRAIN Epoch 12/20, Loss: 1.5683542997279065, Acc: 0.48176291806900756\n",
      "VAL Epoch 12/20, Loss: 2.715109027115403, Acc: 0.3695404913964545\n",
      "TRAIN Epoch 13/20, Loss: 1.4428249026866669, Acc: 0.5588905785946136\n",
      "VAL Epoch 13/20, Loss: 2.7171339218024237, Acc: 0.39103730696781425\n",
      "TRAIN Epoch 14/20, Loss: 1.3357782871165174, Acc: 0.5892857148292217\n",
      "VAL Epoch 14/20, Loss: 2.7482519294046295, Acc: 0.41048680635014917\n",
      "TRAIN Epoch 15/20, Loss: 1.243506259106575, Acc: 0.6132218850419876\n",
      "VAL Epoch 15/20, Loss: 2.8682041039132766, Acc: 0.3881938127195759\n",
      "TRAIN Epoch 16/20, Loss: 1.1218050287124959, Acc: 0.6536854106061002\n",
      "VAL Epoch 16/20, Loss: 2.8796252247634206, Acc: 0.4126478617738007\n",
      "TRAIN Epoch 17/20, Loss: 1.014527550403108, Acc: 0.6907294836450131\n",
      "VAL Epoch 17/20, Loss: 2.917709130010787, Acc: 0.43488398554978097\n",
      "TRAIN Epoch 18/20, Loss: 0.9306809965600359, Acc: 0.7182750765313494\n",
      "VAL Epoch 18/20, Loss: 3.0336670142829796, Acc: 0.4180505006176651\n",
      "TRAIN Epoch 19/20, Loss: 0.7890572611321794, Acc: 0.7798252283258641\n",
      "VAL Epoch 19/20, Loss: 3.0392279704664924, Acc: 0.45080755242876186\n",
      "TRAIN Epoch 20/20, Loss: 0.7031446219758785, Acc: 0.8088905785946136\n",
      "VAL Epoch 20/20, Loss: 3.091197414193184, Acc: 0.4523430394518907\n"
     ]
    }
   ],
   "source": [
    "for epoch in range(1, EPOCHS+1):\n",
    "    running_loss = .0\n",
    "    running_acc = .0\n",
    "    for phase in ['train', 'val']:\n",
    "        if phase == 'train': model.train()\n",
    "        if phase == 'val': model.eval()\n",
    "        for inputs, targets in loaders[phase]:\n",
    "            inputs, targets = inputs.to(device), targets.to(device)\n",
    "\n",
    "            optimizer.zero_grad()\n",
    "\n",
    "            with torch.set_grad_enabled(phase == 'train'):\n",
    "                outputs = model(inputs)\n",
    "                loss = criterion(outputs, targets)\n",
    "                \n",
    "                if phase == 'train':\n",
    "                    loss.backward()\n",
    "                    optimizer.step()\n",
    "\n",
    "            accuracy = (torch.argmax(outputs, dim=1) == targets).float().mean()\n",
    "\n",
    "            running_loss += loss.item()\n",
    "            running_acc += accuracy.item()\n",
    "        print(f\"{phase.upper()} Epoch {epoch}/{EPOCHS}, Loss: {running_loss/len(loaders[phase])}, Acc: {running_acc/len(loaders[phase])}\")"
   ]
  }
 ],
 "metadata": {
  "kernelspec": {
   "display_name": "Python 3",
   "language": "python",
   "name": "python3"
  },
  "language_info": {
   "codemirror_mode": {
    "name": "ipython",
    "version": 3
   },
   "file_extension": ".py",
   "mimetype": "text/x-python",
   "name": "python",
   "nbconvert_exporter": "python",
   "pygments_lexer": "ipython3",
   "version": "3.8.5"
  }
 },
 "nbformat": 4,
 "nbformat_minor": 4
}
