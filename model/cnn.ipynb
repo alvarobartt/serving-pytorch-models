{
 "cells": [
  {
   "cell_type": "code",
   "execution_count": null,
   "metadata": {},
   "outputs": [],
   "source": [
    "data_path = '../dataset'"
   ]
  },
  {
   "cell_type": "code",
   "execution_count": null,
   "metadata": {},
   "outputs": [],
   "source": [
    "import os"
   ]
  },
  {
   "cell_type": "code",
   "execution_count": null,
   "metadata": {},
   "outputs": [],
   "source": [
    "for path in os.listdir(data_path):\n",
    "    if os.path.isdir(os.path.join(data_path, path)):\n",
    "        print(os.path.join(data_path, path))"
   ]
  },
  {
   "cell_type": "code",
   "execution_count": null,
   "metadata": {},
   "outputs": [],
   "source": [
    "train_data_path = os.path.join(data_path, 'train')\n",
    "test_data_path = os.path.join(data_path, 'test')"
   ]
  },
  {
   "cell_type": "code",
   "execution_count": null,
   "metadata": {},
   "outputs": [],
   "source": [
    "train_classes = dict()\n",
    "\n",
    "for path in sorted(os.listdir(train_data_path)):\n",
    "    if os.path.isdir(os.path.join(train_data_path, path)):\n",
    "        train_classes.setdefault(len(train_classes), path)\n",
    "        \n",
    "train_classes"
   ]
  },
  {
   "cell_type": "code",
   "execution_count": null,
   "metadata": {},
   "outputs": [],
   "source": [
    "test_classes = dict()\n",
    "\n",
    "for path in sorted(os.listdir(test_data_path)):\n",
    "    if os.path.isdir(os.path.join(test_data_path, path)):\n",
    "        test_classes.setdefault(len(test_classes), path)\n",
    "        \n",
    "test_classes"
   ]
  },
  {
   "cell_type": "code",
   "execution_count": 7,
   "metadata": {},
   "outputs": [
    {
     "data": {
      "text/plain": [
       "device(type='cuda')"
      ]
     },
     "execution_count": 7,
     "metadata": {},
     "output_type": "execute_result"
    }
   ],
   "source": [
    "import torch\n",
    "\n",
    "device = torch.device('cuda' if torch.cuda.is_available() else 'cpu')\n",
    "device"
   ]
  },
  {
   "cell_type": "code",
   "execution_count": 8,
   "metadata": {},
   "outputs": [
    {
     "data": {
      "text/plain": [
       "'GeForce GTX 1070'"
      ]
     },
     "execution_count": 8,
     "metadata": {},
     "output_type": "execute_result"
    }
   ],
   "source": [
    "torch.cuda.get_device_name(0)"
   ]
  },
  {
   "cell_type": "code",
   "execution_count": 9,
   "metadata": {},
   "outputs": [],
   "source": [
    "torch.cuda.empty_cache()"
   ]
  },
  {
   "cell_type": "code",
   "execution_count": 10,
   "metadata": {},
   "outputs": [],
   "source": [
    "from torchvision import transforms as T"
   ]
  },
  {
   "cell_type": "code",
   "execution_count": 11,
   "metadata": {},
   "outputs": [],
   "source": [
    "train_transform = T.Compose([\n",
    "    T.Resize((256,256)),\n",
    "    T.CenterCrop((224,224)),\n",
    "    T.RandomVerticalFlip(.5),\n",
    "    T.ToTensor(),\n",
    "    T.Normalize(mean=[0.485, 0.456, 0.406], std=[0.229, 0.224, 0.225])\n",
    "])"
   ]
  },
  {
   "cell_type": "code",
   "execution_count": 12,
   "metadata": {},
   "outputs": [],
   "source": [
    "val_transform = T.Compose([\n",
    "    T.Resize((224,224)),\n",
    "    T.ToTensor(),\n",
    "    T.Normalize(mean=[0.485, 0.456, 0.406], std=[0.229, 0.224, 0.225])\n",
    "])"
   ]
  },
  {
   "cell_type": "code",
   "execution_count": 13,
   "metadata": {},
   "outputs": [],
   "source": [
    "from torchvision.datasets import ImageFolder"
   ]
  },
  {
   "cell_type": "code",
   "execution_count": 14,
   "metadata": {},
   "outputs": [],
   "source": [
    "train_dataset = ImageFolder(\n",
    "    root=train_data_path,\n",
    "    transform=train_transform\n",
    ")"
   ]
  },
  {
   "cell_type": "code",
   "execution_count": 15,
   "metadata": {},
   "outputs": [
    {
     "data": {
      "text/plain": [
       "Dataset ImageFolder\n",
       "    Number of datapoints: 750\n",
       "    Root location: ../dataset/train\n",
       "    StandardTransform\n",
       "Transform: Compose(\n",
       "               Resize(size=(256, 256), interpolation=PIL.Image.BILINEAR)\n",
       "               CenterCrop(size=(224, 224))\n",
       "               RandomVerticalFlip(p=0.5)\n",
       "               ToTensor()\n",
       "               Normalize(mean=[0.485, 0.456, 0.406], std=[0.229, 0.224, 0.225])\n",
       "           )"
      ]
     },
     "execution_count": 15,
     "metadata": {},
     "output_type": "execute_result"
    }
   ],
   "source": [
    "train_dataset"
   ]
  },
  {
   "cell_type": "code",
   "execution_count": 16,
   "metadata": {},
   "outputs": [],
   "source": [
    "test_dataset = ImageFolder(\n",
    "    root=test_data_path,\n",
    "    transform=val_transform\n",
    ")"
   ]
  },
  {
   "cell_type": "code",
   "execution_count": 17,
   "metadata": {},
   "outputs": [
    {
     "data": {
      "text/plain": [
       "Dataset ImageFolder\n",
       "    Number of datapoints: 2500\n",
       "    Root location: ../dataset/test\n",
       "    StandardTransform\n",
       "Transform: Compose(\n",
       "               Resize(size=(224, 224), interpolation=PIL.Image.BILINEAR)\n",
       "               ToTensor()\n",
       "               Normalize(mean=[0.485, 0.456, 0.406], std=[0.229, 0.224, 0.225])\n",
       "           )"
      ]
     },
     "execution_count": 17,
     "metadata": {},
     "output_type": "execute_result"
    }
   ],
   "source": [
    "test_dataset"
   ]
  },
  {
   "cell_type": "code",
   "execution_count": 18,
   "metadata": {},
   "outputs": [],
   "source": [
    "from torch.utils.data import DataLoader"
   ]
  },
  {
   "cell_type": "code",
   "execution_count": 19,
   "metadata": {},
   "outputs": [],
   "source": [
    "BATCH_SIZE = 16"
   ]
  },
  {
   "cell_type": "code",
   "execution_count": 20,
   "metadata": {},
   "outputs": [],
   "source": [
    "train_loader = DataLoader(\n",
    "    train_dataset,\n",
    "    batch_size=BATCH_SIZE,\n",
    "    num_workers=0,\n",
    "    shuffle=True\n",
    ")"
   ]
  },
  {
   "cell_type": "code",
   "execution_count": 21,
   "metadata": {},
   "outputs": [],
   "source": [
    "test_loader = DataLoader(\n",
    "    test_dataset,\n",
    "    batch_size=BATCH_SIZE,\n",
    "    num_workers=0,\n",
    "    shuffle=False\n",
    ")"
   ]
  },
  {
   "cell_type": "code",
   "execution_count": 22,
   "metadata": {},
   "outputs": [],
   "source": [
    "import torch.nn as nn\n",
    "import torch.nn.functional as F"
   ]
  },
  {
   "cell_type": "code",
   "execution_count": 23,
   "metadata": {},
   "outputs": [],
   "source": [
    "class FoodNet(nn.Module):\n",
    "    def __init__(self):\n",
    "        super(FoodNet, self).__init__()\n",
    "        self.conv1 = nn.Conv2d(3, 6, 3)\n",
    "        self.conv2 = nn.Conv2d(6, 8, 3)\n",
    "        self.conv3 = nn.Conv2d(8, 16, 3)\n",
    "        self.pool = nn.MaxPool2d(2, 2)\n",
    "        self.drop = nn.Dropout(.1)\n",
    "        self.fc1 = nn.Linear(16 * 26 * 26, 64)\n",
    "        self.fc2 = nn.Linear(64, 32)\n",
    "        self.fc3 = nn.Linear(32, 10)\n",
    "        \n",
    "    def forward(self, x):\n",
    "        x = self.pool(F.relu(self.conv1(x)))\n",
    "        x = self.pool(F.relu(self.conv2(x)))\n",
    "        x = self.pool(F.relu(self.conv3(x)))\n",
    "        x = x.view(-1, 16 * 26 * 26)\n",
    "        x = F.relu(self.fc1(x))\n",
    "        x = self.drop(x)\n",
    "        x = F.relu(self.fc2(x))\n",
    "        x = self.drop(x)\n",
    "        x = self.fc3(x)\n",
    "        return x"
   ]
  },
  {
   "cell_type": "code",
   "execution_count": 24,
   "metadata": {},
   "outputs": [],
   "source": [
    "model = FoodNet()\n",
    "model = model.to(device)"
   ]
  },
  {
   "cell_type": "code",
   "execution_count": 25,
   "metadata": {},
   "outputs": [],
   "source": [
    "import torch.optim as optim"
   ]
  },
  {
   "cell_type": "code",
   "execution_count": 26,
   "metadata": {},
   "outputs": [],
   "source": [
    "criterion = nn.CrossEntropyLoss()\n",
    "criterion = criterion.to(device)\n",
    "\n",
    "optimizer = optim.Adam(model.parameters(), lr=1e-3)"
   ]
  },
  {
   "cell_type": "code",
   "execution_count": 27,
   "metadata": {},
   "outputs": [],
   "source": [
    "loaders = {\n",
    "    'train': train_loader,\n",
    "    'val': test_loader\n",
    "}"
   ]
  },
  {
   "cell_type": "code",
   "execution_count": 28,
   "metadata": {},
   "outputs": [],
   "source": [
    "from copy import deepcopy"
   ]
  },
  {
   "cell_type": "code",
   "execution_count": 29,
   "metadata": {},
   "outputs": [
    {
     "name": "stdout",
     "output_type": "stream",
     "text": [
      "\n",
      "Epoch 1/20\n",
      "=========================\n",
      "Loss (train): 2.3074508575682944, Acc (train): 0.1253799393456033\n",
      "Loss (val): 2.991362560326886, Acc (val): 0.14939717929454366\n",
      "\n",
      "Epoch 2/20\n",
      "=========================\n",
      "Loss (train): 2.2710729254052993, Acc (train): 0.1491261398855676\n",
      "Loss (val): 2.9175783486882594, Acc (val): 0.21223839856446927\n",
      "\n",
      "Epoch 3/20\n",
      "=========================\n",
      "Loss (train): 2.2162357847741307, Acc (train): 0.15862462019666712\n",
      "Loss (val): 2.9369459972260104, Acc (val): 0.19597361241556277\n",
      "\n",
      "Epoch 4/20\n",
      "=========================\n",
      "Loss (train): 2.156119283209456, Acc (train): 0.18123100317539054\n",
      "Loss (val): 2.8122154557780856, Acc (val): 0.2501137398040978\n",
      "\n",
      "Epoch 5/20\n",
      "=========================\n",
      "Loss (train): 2.115331807035081, Acc (train): 0.21865501555990666\n",
      "Loss (val): 2.805284680074947, Acc (val): 0.23384895370264722\n",
      "\n",
      "Epoch 6/20\n",
      "=========================\n",
      "Loss (train): 2.090958889494551, Acc (train): 0.22416413401035554\n",
      "Loss (val): 2.8416542763922625, Acc (val): 0.27053002737889625\n",
      "\n",
      "Epoch 7/20\n",
      "=========================\n",
      "Loss (train): 2.0642273324601192, Acc (train): 0.24164133756718736\n",
      "Loss (val): 2.743940590293544, Acc (val): 0.3095996360869924\n",
      "\n",
      "Epoch 8/20\n",
      "=========================\n",
      "Loss (train): 1.9659703158317727, Acc (train): 0.2997720368365024\n",
      "Loss (val): 2.7379659338361897, Acc (val): 0.3313808008364052\n",
      "\n",
      "Epoch 9/20\n",
      "=========================\n",
      "Loss (train): 1.87369707797436, Acc (train): 0.3499240127015621\n",
      "Loss (val): 2.6848833439456428, Acc (val): 0.35515241144569054\n",
      "\n",
      "Epoch 10/20\n",
      "=========================\n",
      "Loss (train): 1.7120689381944372, Acc (train): 0.3816489361702128\n",
      "Loss (val): 2.7597269442430727, Acc (val): 0.3590764331210191\n",
      "\n",
      "Epoch 11/20\n",
      "=========================\n",
      "Loss (train): 1.5692913506893402, Acc (train): 0.4441489361702128\n",
      "Loss (val): 2.844463665014619, Acc (val): 0.3642515923566879\n",
      "\n",
      "Epoch 12/20\n",
      "=========================\n",
      "Loss (train): 1.4046519690371575, Acc (train): 0.5197568396304516\n",
      "Loss (val): 2.7694522446128214, Acc (val): 0.39007051887026256\n",
      "\n",
      "Epoch 13/20\n",
      "=========================\n",
      "Loss (train): 1.17950291709697, Acc (train): 0.6033434664949457\n",
      "Loss (val): 2.8497755979276764, Acc (val): 0.4146951778679137\n",
      "\n",
      "Epoch 14/20\n",
      "=========================\n",
      "Loss (train): 1.0442303070362577, Acc (train): 0.6316489361702128\n",
      "Loss (val): 3.038401370785039, Acc (val): 0.4096337579617834\n",
      "\n",
      "Epoch 15/20\n",
      "=========================\n",
      "Loss (train): 0.8948298375657264, Acc (train): 0.7036474169568813\n",
      "Loss (val): 3.5825929262076213, Acc (val): 0.4363626025284931\n",
      "\n",
      "Epoch 16/20\n",
      "=========================\n",
      "Loss (train): 0.7932817707670495, Acc (train): 0.7283434664949457\n",
      "Loss (val): 3.4336685151051562, Acc (val): 0.43181301226281815\n",
      "\n",
      "Epoch 17/20\n",
      "=========================\n",
      "Loss (train): 0.6038655534069589, Acc (train): 0.8136398183538559\n",
      "Loss (val): 3.735123940618934, Acc (val): 0.45336669721421163\n",
      "\n",
      "Epoch 18/20\n",
      "=========================\n",
      "Loss (train): 0.5737764556357201, Acc (train): 0.818958967290026\n",
      "Loss (val): 3.6117851855648553, Acc (val): 0.460532302309753\n",
      "\n",
      "Epoch 19/20\n",
      "=========================\n",
      "Loss (train): 0.5028450688783158, Acc (train): 0.8463145900279918\n",
      "Loss (val): 4.187929166255484, Acc (val): 0.47509099191920773\n",
      "\n",
      "Epoch 20/20\n",
      "=========================\n",
      "Loss (train): 0.42993190773624057, Acc (train): 0.8491641346444475\n",
      "Loss (val): 4.365085319586241, Acc (val): 0.46280709763241423\n",
      "CPU times: user 25min 32s, sys: 1.52 s, total: 25min 34s\n",
      "Wall time: 4min 30s\n"
     ]
    }
   ],
   "source": [
    "%%time\n",
    "\n",
    "EPOCHS = 20\n",
    "\n",
    "for epoch in range(1, EPOCHS+1):\n",
    "    running_loss = .0\n",
    "    running_acc = .0\n",
    "    best_acc = .0\n",
    "    best_model = None\n",
    "    print(f\"\\nEpoch {epoch}/{EPOCHS}\\n{'='*25}\")\n",
    "    for phase in ['train', 'val']:\n",
    "        if phase == 'train': model.train()\n",
    "        if phase == 'val': model.eval()\n",
    "        for inputs, targets in loaders[phase]:\n",
    "            inputs, targets = inputs.to(device), targets.to(device)\n",
    "\n",
    "            optimizer.zero_grad()\n",
    "\n",
    "            with torch.set_grad_enabled(phase == 'train'):\n",
    "                outputs = model(inputs)\n",
    "                loss = criterion(outputs, targets)\n",
    "                \n",
    "                if phase == 'train':\n",
    "                    loss.backward()\n",
    "                    optimizer.step()\n",
    "\n",
    "            accuracy = (torch.argmax(outputs, dim=1) == targets).float().mean()\n",
    "\n",
    "            running_loss += loss.item()\n",
    "            running_acc += accuracy.item()\n",
    "        if phase == 'val' and accuracy > best_acc:\n",
    "            best_acc = accuracy\n",
    "            best_model = deepcopy(model.state_dict())\n",
    "        print(f\"Loss ({phase}): {running_loss/len(loaders[phase])}, Acc ({phase}): {running_acc/len(loaders[phase])}\")"
   ]
  },
  {
   "cell_type": "code",
   "execution_count": 30,
   "metadata": {},
   "outputs": [],
   "source": [
    "torch.save(best_model, 'foodnet.pth')"
   ]
  }
 ],
 "metadata": {
  "kernelspec": {
   "display_name": "Python 3",
   "language": "python",
   "name": "python3"
  },
  "language_info": {
   "codemirror_mode": {
    "name": "ipython",
    "version": 3
   },
   "file_extension": ".py",
   "mimetype": "text/x-python",
   "name": "python",
   "nbconvert_exporter": "python",
   "pygments_lexer": "ipython3",
   "version": "3.8.5"
  }
 },
 "nbformat": 4,
 "nbformat_minor": 4
}
