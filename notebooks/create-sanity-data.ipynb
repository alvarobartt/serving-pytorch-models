{
 "cells": [
  {
   "cell_type": "code",
   "execution_count": 1,
   "metadata": {},
   "outputs": [],
   "source": [
    "ID2LABEL = {\n",
    "    0: 'chicken_curry',\n",
    "    1: 'chicken_wings',\n",
    "    2: 'fried_rice',\n",
    "    3: 'grilled_salmon',\n",
    "    4: 'hamburger',\n",
    "    5: 'ice_cream',\n",
    "    6: 'pizza',\n",
    "    7: 'ramen',\n",
    "    8: 'steak',\n",
    "    9: 'sushi'\n",
    "}"
   ]
  },
  {
   "cell_type": "code",
   "execution_count": 2,
   "metadata": {},
   "outputs": [],
   "source": [
    "TEST_DIR = '../dataset/test'\n",
    "SANITY_DIR = '../dataset/sanity'"
   ]
  },
  {
   "cell_type": "code",
   "execution_count": 3,
   "metadata": {},
   "outputs": [],
   "source": [
    "import os\n",
    "import shutil"
   ]
  },
  {
   "cell_type": "code",
   "execution_count": 4,
   "metadata": {},
   "outputs": [],
   "source": [
    "if os.path.exists(SANITY_DIR) and os.path.isdir(SANITY_DIR):\n",
    "    shutil.rmtree(SANITY_DIR)"
   ]
  },
  {
   "cell_type": "code",
   "execution_count": 5,
   "metadata": {},
   "outputs": [],
   "source": [
    "for class_ in list(ID2LABEL.values()):\n",
    "    os.makedirs(f\"{SANITY_DIR}/{class_}\")"
   ]
  },
  {
   "cell_type": "code",
   "execution_count": 6,
   "metadata": {},
   "outputs": [],
   "source": [
    "from random import sample"
   ]
  },
  {
   "cell_type": "code",
   "execution_count": 7,
   "metadata": {},
   "outputs": [],
   "source": [
    "for class_ in list(ID2LABEL.values()):\n",
    "    files = sample(os.listdir(f\"{TEST_DIR}/{class_}\"), 15)\n",
    "    for file in files:\n",
    "        shutil.copyfile(f\"{TEST_DIR}/{class_}/{file}\", f\"{SANITY_DIR}/{class_}/{file}\")"
   ]
  }
 ],
 "metadata": {
  "kernelspec": {
   "display_name": "Python 3",
   "language": "python",
   "name": "python3"
  },
  "language_info": {
   "codemirror_mode": {
    "name": "ipython",
    "version": 3
   },
   "file_extension": ".py",
   "mimetype": "text/x-python",
   "name": "python",
   "nbconvert_exporter": "python",
   "pygments_lexer": "ipython3",
   "version": "3.8.5"
  }
 },
 "nbformat": 4,
 "nbformat_minor": 4
}
